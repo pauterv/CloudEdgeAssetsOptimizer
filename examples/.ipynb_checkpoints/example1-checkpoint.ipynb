{
 "cells": [
  {
   "cell_type": "markdown",
   "metadata": {},
   "source": [
    "# Example 1: Finding maximum arrival rate for given system and performance requirements\n",
    "\n",
    "Consider a data processing system with $N_C = 10$ Cloud servers. Mean data processing time $T_C = 100$ s. What is maximum arrival rate of data processing requests per hour $\\lambda_{cr}$ if critical mean waiting time $W_{cr} = 300$ s? Estimate how the $\\lambda_{cr}$ depends on the distribution of processing time, when: \n",
    "\n",
    "a) processing time is constant - standard deviation $std(T_C)=0$ s, \n",
    "\n",
    "b) standard deviation of processing time $std(T_C)=50$ s, \n",
    "\n",
    "c) processing time is exponentially distributed - standard deviation $std(T_C)=mean(T_C)=100$ s.\n",
    "\n",
    "To solve this task the multi-server msqs model can be used from the core functions library."
   ]
  },
  {
   "cell_type": "code",
   "execution_count": 1,
   "metadata": {},
   "outputs": [
    {
     "ename": "NameError",
     "evalue": "name '__file__' is not defined",
     "output_type": "error",
     "traceback": [
      "\u001b[0;31m---------------------------------------------------------------------------\u001b[0m",
      "\u001b[0;31mNameError\u001b[0m                                 Traceback (most recent call last)",
      "\u001b[1;32m/Users/paulius/pCloud Drive/00_Darbai/KTU/01_Straipsniai/2023_SoftwareX/Code/CloudEdgeAssetsOptimizer/examples/example1.ipynb Cell 2\u001b[0m line \u001b[0;36m3\n\u001b[1;32m      <a href='vscode-notebook-cell:/Users/paulius/pCloud%20Drive/00_Darbai/KTU/01_Straipsniai/2023_SoftwareX/Code/CloudEdgeAssetsOptimizer/examples/example1.ipynb#W0sZmlsZQ%3D%3D?line=0'>1</a>\u001b[0m \u001b[39mimport\u001b[39;00m \u001b[39mmatplotlib\u001b[39;00m\u001b[39m.\u001b[39;00m\u001b[39mpylab\u001b[39;00m \u001b[39mas\u001b[39;00m \u001b[39mplt\u001b[39;00m\n\u001b[1;32m      <a href='vscode-notebook-cell:/Users/paulius/pCloud%20Drive/00_Darbai/KTU/01_Straipsniai/2023_SoftwareX/Code/CloudEdgeAssetsOptimizer/examples/example1.ipynb#W0sZmlsZQ%3D%3D?line=1'>2</a>\u001b[0m \u001b[39mimport\u001b[39;00m \u001b[39msys\u001b[39;00m\u001b[39m,\u001b[39m \u001b[39mos\u001b[39;00m\n\u001b[0;32m----> <a href='vscode-notebook-cell:/Users/paulius/pCloud%20Drive/00_Darbai/KTU/01_Straipsniai/2023_SoftwareX/Code/CloudEdgeAssetsOptimizer/examples/example1.ipynb#W0sZmlsZQ%3D%3D?line=2'>3</a>\u001b[0m current \u001b[39m=\u001b[39m os\u001b[39m.\u001b[39mpath\u001b[39m.\u001b[39mdirname(os\u001b[39m.\u001b[39mpath\u001b[39m.\u001b[39mrealpath(\u001b[39m__file__\u001b[39;49m))\n\u001b[1;32m      <a href='vscode-notebook-cell:/Users/paulius/pCloud%20Drive/00_Darbai/KTU/01_Straipsniai/2023_SoftwareX/Code/CloudEdgeAssetsOptimizer/examples/example1.ipynb#W0sZmlsZQ%3D%3D?line=3'>4</a>\u001b[0m parent \u001b[39m=\u001b[39m os\u001b[39m.\u001b[39mpath\u001b[39m.\u001b[39mdirname(current)\n\u001b[1;32m      <a href='vscode-notebook-cell:/Users/paulius/pCloud%20Drive/00_Darbai/KTU/01_Straipsniai/2023_SoftwareX/Code/CloudEdgeAssetsOptimizer/examples/example1.ipynb#W0sZmlsZQ%3D%3D?line=4'>5</a>\u001b[0m sys\u001b[39m.\u001b[39mpath\u001b[39m.\u001b[39mappend(parent)\n",
      "\u001b[0;31mNameError\u001b[0m: name '__file__' is not defined"
     ]
    }
   ],
   "source": [
    "import matplotlib.pylab as plt\n",
    "# import sys, os\n",
    "# current = os.path.dirname(os.path.realpath(__file__))\n",
    "# parent = os.path.dirname(current)\n",
    "# sys.path.append(parent)\n",
    "from qsystems import msqs\n",
    "import pandas as pd \n",
    "import time\n",
    "\n",
    "N_C = 10; T_C_s = 100; W_cr_s = 300\n",
    "stdT_C_s = 50 # for MG1 system\n",
    "# for MD1 system stdT_C = 0 (handled in auto by msqs)\n",
    "# for MM1 system stdT_C = T_C (handled in auto by msqs)\n",
    "timeStart = time.time()\n",
    "lambda_C_list = range(0,350,1)\n",
    "sysparam_mm1 = []; sysparam_md1 = []; sysparam_mg1 = []\n",
    "for lambda_C in lambda_C_list:\n",
    "    sysparam_md1.append(\n",
    "    \tmsqs(ar=lambda_C,sn=N_C,s1=T_C_s/3600,qs=\"md1\"))\n",
    "    sysparam_mm1.append(\n",
    "    \tmsqs(ar=lambda_C,sn=N_C,s1=T_C_s/3600,qs=\"mm1\"))\n",
    "    sysparam_mg1.append(\n",
    "    \tmsqs(ar=lambda_C,sn=N_C,s1=T_C_s/3600,\n",
    "    \tvs=(stdT_C_s/3600)**2,qs=\"mg1\"))\n",
    "\n",
    "df_mm1 = pd.DataFrame(sysparam_mm1)\n",
    "df_md1 = pd.DataFrame(sysparam_md1)\n",
    "df_mg1 = pd.DataFrame(sysparam_mg1)\n",
    "\n",
    "lambda_cr_md1=df_md1[df_md1['w']*3600<W_cr_s].tail(1)['ar']\n",
    "lambda_cr_mg1=df_mg1[df_mg1['w']*3600<W_cr_s].tail(1)['ar']\n",
    "lambda_cr_mm1=df_mm1[df_mm1['w']*3600<W_cr_s].tail(1)['ar']\n",
    "\n",
    "print(\"Elapsed time is %f seconds\"%(time.time()-timeStart))\n",
    "\n",
    "print(\"When mean(T_C) = %.2f s, N_C = %d :\"%(T_C_s,N_C))\n",
    "print(\" - lambda_cr = %d req./h, if std(T_C) = 0 s\"%lambda_cr_md1)\n",
    "print(\" - lambda_cr = %d req./h, if std(T_C) = 50 s\"%lambda_cr_mg1)\n",
    "print(\" - lambda_cr = %d req./h, if std(T_C) = 100 s\"%lambda_cr_mm1)\n",
    "\n",
    "# >>> When mean(T_C) = 100.00 s, N_C = 10 :\n",
    "# >>>  - lambda_cr = 288 req./h, if std(T_C) = 0 s\n",
    "# >>>  - lambda_cr = 274 req./h, if std(T_C) = 50 s\n",
    "# >>>  - lambda_cr = 240 req./h, if std(T_C) = 100 s\n",
    "\n",
    "# import data to compare with event-driven Matlab model results\n",
    "df_matlab = pd.read_csv('event_driven_model_results_simtime1000h.csv')\n",
    "\n",
    "plt.figure()\n",
    "\n",
    "plt.plot(df_md1['ar'],df_md1['w']*3600,'g')\n",
    "plt.plot(df_mg1['ar'],df_mg1['w']*3600,'b')\n",
    "plt.plot(df_mm1['ar'],df_mm1['w']*3600,'r')\n",
    "plt.plot(df_matlab['Lambda'],df_matlab['W_C_md1'],'gx')\n",
    "plt.plot(df_matlab['Lambda'],df_matlab['W_C_mg1'],'bx')\n",
    "plt.plot(df_matlab['Lambda'],df_matlab['W_C_mm1'],'rx')\n",
    "\n",
    "plt.axhline(W_cr_s,color='black',linestyle=':')\n",
    "\n",
    "plt.stem(lambda_cr_md1,W_cr_s,'g:',label=\"$\\lambda_{cr}=%d$, mean($T_C$) = 100 s, std($T_C$)= 0 s\"%lambda_cr_md1) \n",
    "plt.stem(lambda_cr_mg1,W_cr_s,'b:',label=\"$\\lambda_{cr}=%d$, mean($T_C$) = 100 s, std($T_C$)= 50 s\"%lambda_cr_mg1)\n",
    "plt.stem([lambda_cr_mm1],[W_cr_s],'r:',label=\"$\\lambda_{cr}=%d$, mean($T_C$) = 100 s, std($T_C$)= 100 s\"%lambda_cr_mm1)\n",
    "plt.text(0,W_cr_s+10,\"$W_{Ccr} = %d$ s\"%W_cr_s)\n",
    "\n",
    "plt.xlim([140,320])\n",
    "plt.ylim([0,800])\n",
    "plt.grid()\n",
    "plt.xlabel(\"Arrival rate $\\lambda$ [req./h]\")\n",
    "plt.ylabel(\"Waiting time $W_C$ [s]\")\n",
    "plt.legend(handlelength=0)\n",
    "#plt.savefig(\"Fig_Example1.pdf\")\n",
    "plt.show()"
   ]
  }
 ],
 "metadata": {
  "kernelspec": {
   "display_name": "Python 3 (ipykernel)",
   "language": "python",
   "name": "python3"
  },
  "language_info": {
   "codemirror_mode": {
    "name": "ipython",
    "version": 3
   },
   "file_extension": ".py",
   "mimetype": "text/x-python",
   "name": "python",
   "nbconvert_exporter": "python",
   "pygments_lexer": "ipython3",
   "version": "3.9.15"
  }
 },
 "nbformat": 4,
 "nbformat_minor": 2
}
